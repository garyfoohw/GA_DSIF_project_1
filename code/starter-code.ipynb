{
 "cells": [
  {
   "cell_type": "markdown",
   "metadata": {},
   "source": [
    "<img src=\"http://imgur.com/1ZcRyrc.png\" style=\"float: left; margin: 20px; height: 55px\">\n",
    "\n",
    "# Project 1: Standardized Test Analysis"
   ]
  },
  {
   "cell_type": "markdown",
   "metadata": {},
   "source": [
    "--- \n",
    "# Part 1\n",
    "\n",
    "Part 1 requires knowledge of basic Python.\n",
    "\n",
    "---"
   ]
  },
  {
   "cell_type": "markdown",
   "metadata": {},
   "source": [
    "## Problem Statement"
   ]
  },
  {
   "cell_type": "markdown",
   "metadata": {},
   "source": [
    "Decide on your problem statement that will guide your analysis for this project. For guidelines, sample prompts, or inspiration, check out the README.\n",
    "\n",
    "**To-Do:** *Replace this cell with your problem statement.*"
   ]
  },
  {
   "cell_type": "markdown",
   "metadata": {},
   "source": [
    "### Contents:\n",
    "- [Background](#Background)\n",
    "- [Data Import & Cleaning](#Data-Import-and-Cleaning)\n",
    "- [Exploratory Data Analysis](#Exploratory-Data-Analysis)\n",
    "- [Data Visualization](#Visualize-the-Data)\n",
    "- [Conclusions and Recommendations](#Conclusions-and-Recommendations)"
   ]
  },
  {
   "cell_type": "markdown",
   "metadata": {},
   "source": [
    "## Background"
   ]
  },
  {
   "cell_type": "markdown",
   "metadata": {},
   "source": [
    "The SAT and ACT are standardized tests that many colleges and universities in the United States require for their admissions process. This score is used along with other materials such as grade point average (GPA) and essay responses to determine whether or not a potential student will be accepted to the university.\n",
    "\n",
    "The SAT has two sections of the test: Evidence-Based Reading and Writing and Math ([*source*](https://www.princetonreview.com/college/sat-sections)). The ACT has 4 sections: English, Mathematics, Reading, and Science, with an additional optional writing section ([*source*](https://www.act.org/content/act/en/products-and-services/the-act/scores/understanding-your-scores.html)). They have different score ranges, which you can read more about on their websites or additional outside sources (a quick Google search will help you understand the scores for each test):\n",
    "* [SAT](https://collegereadiness.collegeboard.org/sat)\n",
    "* [ACT](https://www.act.org/content/act/en.html)\n",
    "\n",
    "Standardized tests have long been a controversial topic for students, administrators, and legislators. Since the 1940's, an increasing number of colleges have been using scores from sudents' performances on tests like the SAT and the ACT as a measure for college readiness and aptitude ([*source*](https://www.minotdailynews.com/news/local-news/2017/04/a-brief-history-of-the-sat-and-act/)). Supporters of these tests argue that these scores can be used as an objective measure to determine college admittance. Opponents of these tests claim that these tests are not accurate measures of students potential or ability and serve as an inequitable barrier to entry. Lately, more and more schools are opting to drop the SAT/ACT requirement for their Fall 2021 applications ([*read more about this here*](https://www.cnn.com/2020/04/14/us/coronavirus-colleges-sat-act-test-trnd/index.html))."
   ]
  },
  {
   "cell_type": "markdown",
   "metadata": {},
   "source": [
    "**To-Do:** *Fill out this cell (or edit the above cell) with any other background or information that is necessary for your problem statement.*"
   ]
  },
  {
   "cell_type": "markdown",
   "metadata": {},
   "source": [
    "### Choose your Data\n",
    "\n",
    "There are 10 datasets included in the [`data`](./data/) folder for this project. You are required to pick **at least two** of these to complete your analysis. Feel free to use more than two if you would like, or add other relevant datasets you find online.\n",
    "\n",
    "* [`act_2017.csv`](./data/act_2017.csv): 2017 ACT Scores by State\n",
    "* [`act_2018.csv`](./data/act_2018.csv): 2018 ACT Scores by State\n",
    "* [`act_2019.csv`](./data/act_2019.csv): 2019 ACT Scores by State\n",
    "* [`act_2019_ca.csv`](./data/act_2019_ca.csv): 2019 ACT Scores in California by School\n",
    "* [`sat_2017.csv`](./data/sat_2017.csv): 2017 SAT Scores by State\n",
    "* [`sat_2018.csv`](./data/sat_2018.csv): 2018 SAT Scores by State\n",
    "* [`sat_2019.csv`](./data/sat_2019.csv): 2019 SAT Scores by State\n",
    "* [`sat_2019_by_intended_college_major.csv`](./data/sat_2019_by_intended_college_major.csv): 2019 SAT Scores by Intended College Major\n",
    "* [`sat_2019_ca.csv`](./data/sat_2019_ca.csv): 2019 SAT Scores in California by School\n",
    "* [`sat_act_by_college.csv`](./data/sat_act_by_college.csv): Ranges of Accepted ACT & SAT Student Scores by Colleges"
   ]
  },
  {
   "cell_type": "markdown",
   "metadata": {},
   "source": [
    "**To-Do:** *Fill out this cell with the datasets you will use for your analysis. Write a brief description of the contents for each dataset that you choose.*"
   ]
  },
  {
   "cell_type": "markdown",
   "metadata": {},
   "source": [
    "### Outside Research"
   ]
  },
  {
   "cell_type": "markdown",
   "metadata": {},
   "source": [
    "Based on your problem statement and your chosen datasets, spend some time doing outside research on state policies or additional information that might be relevant. Summarize your findings below. If you bring in any outside tables or charts, make sure you are explicit about having borrowed them. If you quote any text, make sure that it renders as being quoted. **Make sure that you cite your sources.**"
   ]
  },
  {
   "cell_type": "markdown",
   "metadata": {},
   "source": [
    "**To-Do:** *Fill out this cell with outside research or any additional background information that will support your analysis.*"
   ]
  },
  {
   "cell_type": "markdown",
   "metadata": {},
   "source": [
    "### Coding Challenges\n",
    "\n",
    "1. Manually calculate mean:\n",
    "\n",
    "    Write a function that takes in values and returns the mean of the values. Create a list of numbers that you test on your function to check to make sure your function works!\n",
    "    \n",
    "    *Note*: Do not use any mean methods built-in to any Python libraries to do this! This should be done without importing any additional libraries."
   ]
  },
  {
   "cell_type": "code",
   "execution_count": 1,
   "metadata": {},
   "outputs": [
    {
     "data": {
      "text/plain": [
       "3.8333333333333335"
      ]
     },
     "execution_count": 1,
     "metadata": {},
     "output_type": "execute_result"
    }
   ],
   "source": [
    "# Code:\n",
    "def get_mean(lst)->float:\n",
    "    '''\n",
    "    Calculate mean of a list of numbers\n",
    "    \n",
    "    lst: List of input numbers\n",
    "    return: Mean value\n",
    "    '''\n",
    "    return sum(lst)/len(lst)\n",
    "\n",
    "test_list=[1,2,3,4,5,8]\n",
    "\n",
    "get_mean(test_list)"
   ]
  },
  {
   "cell_type": "markdown",
   "metadata": {},
   "source": [
    "2. Manually calculate standard deviation:\n",
    "\n",
    "    The formula for standard deviation is below:\n",
    "\n",
    "    $$\\sigma = \\sqrt{\\frac{1}{n}\\sum_{i=1}^n(x_i - \\mu)^2}$$\n",
    "\n",
    "    Where $x_i$ represents each value in the dataset, $\\mu$ represents the mean of all values in the dataset and $n$ represents the number of values in the dataset.\n",
    "\n",
    "    Write a function that takes in values and returns the standard deviation of the values using the formula above. Hint: use the function you wrote above to calculate the mean! Use the list of numbers you created above to test on your function.\n",
    "    \n",
    "    *Note*: Do not use any standard deviation methods built-in to any Python libraries to do this! This should be done without importing any additional libraries."
   ]
  },
  {
   "cell_type": "code",
   "execution_count": 2,
   "metadata": {},
   "outputs": [
    {
     "data": {
      "text/plain": [
       "2.266911751455907"
      ]
     },
     "execution_count": 2,
     "metadata": {},
     "output_type": "execute_result"
    }
   ],
   "source": [
    "# Code:\n",
    "def get_sd(lst)->float:\n",
    "    '''\n",
    "    Calculate standard deviation of a list of numbers\n",
    "    \n",
    "    lst: List of input numbers\n",
    "    return: Standard Deviation\n",
    "    '''\n",
    "    mean=get_mean(lst)\n",
    "    return (sum([(x-mean)**2 for x in lst])/len(lst))**0.5\n",
    "\n",
    "test_list=[1,2,3,4,5,8]\n",
    "\n",
    "get_sd(test_list)"
   ]
  },
  {
   "cell_type": "markdown",
   "metadata": {},
   "source": [
    "3. Data cleaning function:\n",
    "    \n",
    "    Write a function that takes in a string that is a number and a percent symbol (ex. '50%', '30.5%', etc.) and converts this to a float that is the decimal approximation of the percent. For example, inputting '50%' in your function should return 0.5, '30.5%' should return 0.305, etc. Make sure to test your function to make sure it works!\n",
    "\n",
    "You will use these functions later on in the project!"
   ]
  },
  {
   "cell_type": "code",
   "execution_count": 3,
   "metadata": {},
   "outputs": [
    {
     "data": {
      "text/plain": [
       "0.305"
      ]
     },
     "execution_count": 3,
     "metadata": {},
     "output_type": "execute_result"
    }
   ],
   "source": [
    "# Code:\n",
    "def remove_percentage_sign(string)->float:\n",
    "    '''\n",
    "    Removes % from a string and returns as decimal\n",
    "    i.e. 50% -> 0.5\n",
    "    \n",
    "    string: A string with % ranging from 0 to 100 (i.e. 0% to 100%)\n",
    "    return: Percentage in decimals (0.0 to 1.0)\n",
    "    '''\n",
    "    \n",
    "    return float(string.replace(\"%\",\"\"))/100\n",
    "\n",
    "remove_percentage_sign(\"30.5%\")"
   ]
  },
  {
   "cell_type": "markdown",
   "metadata": {},
   "source": [
    "--- \n",
    "# Part 2\n",
    "\n",
    "Part 2 requires knowledge of Pandas, EDA, data cleaning, and data visualization.\n",
    "\n",
    "---"
   ]
  },
  {
   "cell_type": "markdown",
   "metadata": {},
   "source": [
    "*All libraries used should be added here*"
   ]
  },
  {
   "cell_type": "code",
   "execution_count": 4,
   "metadata": {},
   "outputs": [],
   "source": [
    "# Imports:\n",
    "import pandas as pd\n",
    "import numpy as np\n",
    "import matplotlib.pyplot as plt\n",
    "import re"
   ]
  },
  {
   "cell_type": "markdown",
   "metadata": {},
   "source": [
    "## Data Import and Cleaning"
   ]
  },
  {
   "cell_type": "markdown",
   "metadata": {},
   "source": [
    "### Data Import & Cleaning\n",
    "\n",
    "Import the datasets that you selected for this project and go through the following steps at a minimum. You are welcome to do further cleaning as you feel necessary:\n",
    "1. Display the data: print the first 5 rows of each dataframe to your Jupyter notebook.\n",
    "2. Check for missing values.\n",
    "3. Check for any obvious issues with the observations (keep in mind the minimum & maximum possible values for each test/subtest).\n",
    "4. Fix any errors you identified in steps 2-3.\n",
    "5. Display the data types of each feature.\n",
    "6. Fix any incorrect data types found in step 5.\n",
    "    - Fix any individual values preventing other columns from being the appropriate type.\n",
    "    - If your dataset has a column of percents (ex. '50%', '30.5%', etc.), use the function you wrote in Part 1 (coding challenges, number 3) to convert this to floats! *Hint*: use `.map()` or `.apply()`.\n",
    "7. Rename Columns.\n",
    "    - Column names should be all lowercase.\n",
    "    - Column names should not contain spaces (underscores will suffice--this allows for using the `df.column_name` method to access columns in addition to `df['column_name']`).\n",
    "    - Column names should be unique and informative.\n",
    "8. Drop unnecessary rows (if needed).\n",
    "9. Merge dataframes that can be merged.\n",
    "10. Perform any additional cleaning that you feel is necessary.\n",
    "11. Save your cleaned and merged dataframes as csv files."
   ]
  },
  {
   "cell_type": "code",
   "execution_count": 5,
   "metadata": {},
   "outputs": [],
   "source": [
    "pd.set_option('display.max_columns',None)\n",
    "pd.set_option('display.max_rows',None)"
   ]
  },
  {
   "cell_type": "code",
   "execution_count": 6,
   "metadata": {},
   "outputs": [],
   "source": [
    "#import \n",
    "df_act=[\n",
    "    pd.read_csv(\"../data/act_2017.csv\"),\n",
    "    pd.read_csv(\"../data/act_2018.csv\"),\n",
    "    pd.read_csv(\"../data/act_2019.csv\")\n",
    "]\n",
    "\n",
    "df_sat=[\n",
    "    pd.read_csv(\"../data/sat_2017.csv\"),\n",
    "    pd.read_csv(\"../data/sat_2018.csv\"),\n",
    "    pd.read_csv(\"../data/sat_2019.csv\")\n",
    "]"
   ]
  },
  {
   "cell_type": "code",
   "execution_count": 7,
   "metadata": {},
   "outputs": [],
   "source": [
    "#number of years (2017 to 2019)\n",
    "n_years=3"
   ]
  },
  {
   "cell_type": "code",
   "execution_count": 8,
   "metadata": {},
   "outputs": [],
   "source": [
    "#Pick out columns that we want\n",
    "cols_to_retain=[\"State\",\"Participation\",\"Composite\"]\n",
    "for i in range(n_years):\n",
    "    try:\n",
    "        df_act[i]=df_act[i][cols_to_retain]\n",
    "    except Exception as e:\n",
    "        print(e)\n",
    "\n",
    "cols_to_retain=[\"State\",\"Participation\",\"Total\"]\n",
    "for i in range(n_years):\n",
    "    try:\n",
    "        df_sat[i]=df_sat[i][cols_to_retain]\n",
    "    except:\n",
    "        try:\n",
    "            df_sat[i].rename(columns={\"Participation Rate\":\"Participation\"},errors=\"ignore\",inplace=True)\n",
    "            df_sat[i]=df_sat[i][cols_to_retain]\n",
    "        except Exception as e:\n",
    "            print(e)"
   ]
  },
  {
   "cell_type": "code",
   "execution_count": 9,
   "metadata": {},
   "outputs": [],
   "source": [
    "# add the Year into the dfs through a series and concat dfs into 1 master df\n",
    "\n",
    "df_act=pd.concat([\n",
    "    pd.concat([df_act[0],\n",
    "           pd.Series(['2017']).repeat(df_act[0].shape[0]).rename(\"Year\").reset_index(drop=True)],\n",
    "          axis=1),\n",
    "    pd.concat([df_act[1],\n",
    "           pd.Series(['2018']).repeat(df_act[1].shape[0]).rename(\"Year\").reset_index(drop=True)],\n",
    "          axis=1),\n",
    "    pd.concat([df_act[2],\n",
    "           pd.Series(['2019']).repeat(df_act[2].shape[0]).rename(\"Year\").reset_index(drop=True)],\n",
    "          axis=1)\n",
    "],axis=0).reset_index(drop=True)\n",
    "\n",
    "df_sat=pd.concat([\n",
    "    pd.concat([df_sat[0],\n",
    "           pd.Series(['2017']).repeat(df_sat[0].shape[0]).rename(\"Year\").reset_index(drop=True)],\n",
    "          axis=1),\n",
    "    pd.concat([df_sat[1],\n",
    "           pd.Series(['2018']).repeat(df_sat[1].shape[0]).rename(\"Year\").reset_index(drop=True)],\n",
    "          axis=1),\n",
    "    pd.concat([df_sat[2],\n",
    "           pd.Series(['2019']).repeat(df_sat[2].shape[0]).rename(\"Year\").reset_index(drop=True)],\n",
    "          axis=1)\n",
    "],axis=0).reset_index(drop=True)"
   ]
  },
  {
   "cell_type": "code",
   "execution_count": 10,
   "metadata": {},
   "outputs": [],
   "source": [
    "#drop duplicated rows, 2 dfs in every iteration\n",
    "df_act=df_act.drop_duplicates(subset=['State','Year'])\n",
    "df_sat=df_sat.drop_duplicates(subset=['State','Year'])"
   ]
  },
  {
   "cell_type": "code",
   "execution_count": 11,
   "metadata": {},
   "outputs": [],
   "source": [
    "#drop rows with 'National' in it. Not needed.\n",
    "df_act=df_act[~(df_act['State']==\"National\")]\n",
    "df_sat=df_sat[~(df_sat['State']==\"National\")]"
   ]
  },
  {
   "cell_type": "code",
   "execution_count": 12,
   "metadata": {},
   "outputs": [],
   "source": [
    "#Set title case for all rows in 'State'\n",
    "df_act['State']=df_act['State'].str.title()\n",
    "df_sat['State']=df_sat['State'].str.title()"
   ]
  },
  {
   "cell_type": "code",
   "execution_count": 13,
   "metadata": {},
   "outputs": [],
   "source": [
    "#merge ACT and SAT into a single df\n",
    "df=pd.merge(left=df_act,right=df_sat,how=\"outer\",on=[\"State\",\"Year\"],suffixes=[\"_ACT\",\"_SAT\"])"
   ]
  },
  {
   "cell_type": "code",
   "execution_count": 14,
   "metadata": {
    "scrolled": true
   },
   "outputs": [],
   "source": [
    "#set state as index and rename column to ACT and SAT accordingly\n",
    "df.set_index([\"State\",\"Year\"],inplace=True)\n",
    "df.rename(columns={\"Composite\":\"Score_ACT\",\"Total\":\"Score_SAT\"},inplace=True)"
   ]
  },
  {
   "cell_type": "code",
   "execution_count": 15,
   "metadata": {},
   "outputs": [],
   "source": [
    "def try_float(x):\n",
    "    '''\n",
    "    Attempt to cast a string to float, and store it as decimal between 0 to 1.\n",
    "    If value is outside 0 or 1 (inclusive), return NaN\n",
    "    If unable to cast to float, return NaN\n",
    "    \n",
    "    x: string to be casted into float\n",
    "    return: float decimal or NaN\n",
    "    '''\n",
    "    try:\n",
    "        value = remove_percentage_sign(str(x))\n",
    "        if (value > 1) | (value < 0):\n",
    "            return np.nan\n",
    "        return value\n",
    "    except:\n",
    "        return np.nan"
   ]
  },
  {
   "cell_type": "code",
   "execution_count": 16,
   "metadata": {},
   "outputs": [],
   "source": [
    "#remove percentage sign from participation rates and attempt to cast to float\n",
    "\n",
    "participations=['Participation_ACT','Participation_SAT']\n",
    "for part in participations:\n",
    "    df[part]=df[part].map(try_float)"
   ]
  },
  {
   "cell_type": "code",
   "execution_count": 17,
   "metadata": {},
   "outputs": [],
   "source": [
    "def normalize_act(x):\n",
    "    '''\n",
    "    Calculate the normalized score of the raw ACT grade based on score range of 1 to 36\n",
    "    A score of 0 is not possible.\n",
    "    \n",
    "    Function auto extract the numerical portion of the input and ignore non numerical portions\n",
    "    \n",
    "    Returns a normalized decimal between 0 to 1\n",
    "    \n",
    "    If normalized score is outside 0 to 1, return NaN\n",
    "    If raw grade does not contain a number, return NaN\n",
    "    \n",
    "    x: ACT raw grade\n",
    "    return: normalized ACT score\n",
    "    '''\n",
    "    \n",
    "    #extract decimal portion\n",
    "    x=re.findall('\\d+.\\d+|$', str(x))\n",
    "    \n",
    "    try:\n",
    "        #since the true range of the score 1 to 36 is only 35\n",
    "        value=(float(x[0])-1)/35\n",
    "        if (value > 1) | (value < 0):\n",
    "            return np.nan\n",
    "        return value\n",
    "    except:\n",
    "        return np.nan"
   ]
  },
  {
   "cell_type": "code",
   "execution_count": 18,
   "metadata": {},
   "outputs": [],
   "source": [
    "def normalize_sat(x):\n",
    "    '''\n",
    "    Calculate the normalized score of the raw SAT grade based on score range of 400 to 1600\n",
    "    A score of below 400 is not possible.\n",
    "    \n",
    "    Function auto extract the numerical portion of the input and ignore non numerical portions\n",
    "    \n",
    "    Returns a normalized decimal between 0 to 1\n",
    "    \n",
    "    If normalized score is outside 0 to 1, return NaN\n",
    "    If raw grade does not contain a number, return NaN\n",
    "    \n",
    "    x: SAT raw grade\n",
    "    return: normalized SAT score\n",
    "    '''\n",
    "    \n",
    "    #extract decimal portion\n",
    "    x=re.findall('\\d+.\\d+|$', str(x))\n",
    "    \n",
    "    try:\n",
    "        #since the true range of the score 400 to 1600 is only 1200\n",
    "        value=(float(x[0])-400)/1200\n",
    "        if (value > 1) | (value < 0):\n",
    "            return np.nan\n",
    "        return value\n",
    "    except:\n",
    "        return np.nan"
   ]
  },
  {
   "cell_type": "code",
   "execution_count": 19,
   "metadata": {},
   "outputs": [],
   "source": [
    "#normalize ACT and SAT scores\n",
    "\n",
    "# for i in range(n_years):\n",
    "df['Score_ACT']=df['Score_ACT'].map(normalize_act)\n",
    "df['Score_SAT']=df['Score_SAT'].map(normalize_sat)"
   ]
  },
  {
   "cell_type": "markdown",
   "metadata": {},
   "source": [
    "### Data Dictionary\n",
    "\n",
    "Now that we've fixed our data, and given it appropriate names, let's create a [data dictionary](http://library.ucmerced.edu/node/10249). \n",
    "\n",
    "A data dictionary provides a quick overview of features/variables/columns, alongside data types and descriptions. The more descriptive you can be, the more useful this document is.\n",
    "\n",
    "Example of a Fictional Data Dictionary Entry: \n",
    "\n",
    "|Feature|Type|Dataset|Description|\n",
    "|---|---|---|---|\n",
    "|**county_pop**|*integer*|2010 census|The population of the county (units in thousands, where 2.5 represents 2500 people).| \n",
    "|**per_poverty**|*float*|2010 census|The percent of the county over the age of 18 living below the 200% of official US poverty rate (units percent to two decimal places 98.10 means 98.1%)|\n",
    "\n",
    "[Here's a quick link to a short guide for formatting markdown in Jupyter notebooks](https://jupyter-notebook.readthedocs.io/en/stable/examples/Notebook/Working%20With%20Markdown%20Cells.html).\n",
    "\n",
    "Provided is the skeleton for formatting a markdown table, with columns headers that will help you create a data dictionary to quickly summarize your data, as well as some examples. **This would be a great thing to copy and paste into your custom README for this project.**\n",
    "\n",
    "*Note*: if you are unsure of what a feature is, check the source of the data! This can be found in the README."
   ]
  },
  {
   "cell_type": "markdown",
   "metadata": {},
   "source": [
    "|Feature|Type|Dataset|Description|\n",
    "|---|---|---|---|\n",
    "|State|object|act_2017, act_2018, act_2019, sat_2017, sat_2018, sat_2019|State which the score is reported for|\n",
    "|Year|int|act_2017, act_2018, act_2019, sat_2017, sat_2018, sat_2019|Year which the score is reported for|\n",
    "|Participation_ACT|float|act_2017, act_2018, act_2019|ACT participation rate|\n",
    "|Score_ACT|float|act_2017, act_2018, act_2019|ACT normalized scores|\n",
    "|Participation_SAT|float|sat_2017, sat_2018, sat_2019|SAT participation rate|\n",
    "|Score_SAT|float|sat_2017, sat_2018, sat_2019|SAT normalized scores|\n",
    "\n"
   ]
  },
  {
   "cell_type": "markdown",
   "metadata": {},
   "source": [
    "## Exploratory Data Analysis\n",
    "\n",
    "Complete the following steps to explore your data. You are welcome to do more EDA than the steps outlined here as you feel necessary:\n",
    "1. Summary Statistics.\n",
    "2. Use a **dictionary comprehension** to apply the standard deviation function you create in part 1 to each numeric column in the dataframe.  **No loops**.\n",
    "    - Assign the output to variable `sd` as a dictionary where: \n",
    "        - Each column name is now a key \n",
    "        - That standard deviation of the column is the value \n",
    "        - *Example Output :* `{'ACT_Math': 120, 'ACT_Reading': 120, ...}`\n",
    "3. Investigate trends in the data.\n",
    "    - Using sorting and/or masking (along with the `.head()` method to avoid printing our entire dataframe), consider questions relevant to your problem statement. Some examples are provided below (but feel free to change these questions for your specific problem):\n",
    "        - Which states have the highest and lowest participation rates for the 2017, 2019, or 2019 SAT and ACT?\n",
    "        - Which states have the highest and lowest mean total/composite scores for the 2017, 2019, or 2019 SAT and ACT?\n",
    "        - Do any states with 100% participation on a given test have a rate change year-to-year?\n",
    "        - Do any states show have >50% participation on *both* tests each year?\n",
    "        - Which colleges have the highest median SAT and ACT scores for admittance?\n",
    "        - Which California school districts have the highest and lowest mean test scores?\n",
    "    - **You should comment on your findings at each step in a markdown cell below your code block**. Make sure you include at least one example of sorting your dataframe by a column, and one example of using boolean filtering (i.e., masking) to select a subset of the dataframe."
   ]
  },
  {
   "cell_type": "markdown",
   "metadata": {},
   "source": [
    "#### Summary Statistics"
   ]
  },
  {
   "cell_type": "code",
   "execution_count": 25,
   "metadata": {
    "scrolled": false
   },
   "outputs": [
    {
     "data": {
      "text/html": [
       "<div>\n",
       "<style scoped>\n",
       "    .dataframe tbody tr th:only-of-type {\n",
       "        vertical-align: middle;\n",
       "    }\n",
       "\n",
       "    .dataframe tbody tr th {\n",
       "        vertical-align: top;\n",
       "    }\n",
       "\n",
       "    .dataframe thead th {\n",
       "        text-align: right;\n",
       "    }\n",
       "</style>\n",
       "<table border=\"1\" class=\"dataframe\">\n",
       "  <thead>\n",
       "    <tr style=\"text-align: right;\">\n",
       "      <th></th>\n",
       "      <th>Participation_ACT</th>\n",
       "      <th>Score_ACT</th>\n",
       "      <th>Participation_SAT</th>\n",
       "      <th>Score_SAT</th>\n",
       "    </tr>\n",
       "  </thead>\n",
       "  <tbody>\n",
       "    <tr>\n",
       "      <th>count</th>\n",
       "      <td>153.000000</td>\n",
       "      <td>153.000000</td>\n",
       "      <td>153.000000</td>\n",
       "      <td>155.000000</td>\n",
       "    </tr>\n",
       "    <tr>\n",
       "      <th>mean</th>\n",
       "      <td>0.618824</td>\n",
       "      <td>0.585528</td>\n",
       "      <td>0.448693</td>\n",
       "      <td>0.597839</td>\n",
       "    </tr>\n",
       "    <tr>\n",
       "      <th>std</th>\n",
       "      <td>0.334678</td>\n",
       "      <td>0.059895</td>\n",
       "      <td>0.370944</td>\n",
       "      <td>0.079792</td>\n",
       "    </tr>\n",
       "    <tr>\n",
       "      <th>min</th>\n",
       "      <td>0.060000</td>\n",
       "      <td>0.477143</td>\n",
       "      <td>0.020000</td>\n",
       "      <td>0.445833</td>\n",
       "    </tr>\n",
       "    <tr>\n",
       "      <th>25%</th>\n",
       "      <td>0.290000</td>\n",
       "      <td>0.537143</td>\n",
       "      <td>0.040000</td>\n",
       "      <td>0.543333</td>\n",
       "    </tr>\n",
       "    <tr>\n",
       "      <th>50%</th>\n",
       "      <td>0.660000</td>\n",
       "      <td>0.580000</td>\n",
       "      <td>0.500000</td>\n",
       "      <td>0.581667</td>\n",
       "    </tr>\n",
       "    <tr>\n",
       "      <th>75%</th>\n",
       "      <td>1.000000</td>\n",
       "      <td>0.645714</td>\n",
       "      <td>0.760000</td>\n",
       "      <td>0.674167</td>\n",
       "    </tr>\n",
       "    <tr>\n",
       "      <th>max</th>\n",
       "      <td>1.000000</td>\n",
       "      <td>0.702857</td>\n",
       "      <td>1.000000</td>\n",
       "      <td>0.748333</td>\n",
       "    </tr>\n",
       "  </tbody>\n",
       "</table>\n",
       "</div>"
      ],
      "text/plain": [
       "       Participation_ACT   Score_ACT  Participation_SAT   Score_SAT\n",
       "count         153.000000  153.000000         153.000000  155.000000\n",
       "mean            0.618824    0.585528           0.448693    0.597839\n",
       "std             0.334678    0.059895           0.370944    0.079792\n",
       "min             0.060000    0.477143           0.020000    0.445833\n",
       "25%             0.290000    0.537143           0.040000    0.543333\n",
       "50%             0.660000    0.580000           0.500000    0.581667\n",
       "75%             1.000000    0.645714           0.760000    0.674167\n",
       "max             1.000000    0.702857           1.000000    0.748333"
      ]
     },
     "execution_count": 25,
     "metadata": {},
     "output_type": "execute_result"
    }
   ],
   "source": [
    "df.describe()"
   ]
  },
  {
   "cell_type": "markdown",
   "metadata": {},
   "source": [
    "#### Use a dictionary comprehension to apply the standard deviation function you create in part 1 to each numeric column in the dataframe."
   ]
  },
  {
   "cell_type": "code",
   "execution_count": 37,
   "metadata": {},
   "outputs": [
    {
     "data": {
      "text/plain": [
       "{'Participation_ACT': 0.33358214474024833,\n",
       " 'Score_ACT': 0.059698833505362245,\n",
       " 'Participation_SAT': 0.3697299717899723,\n",
       " 'Score_SAT': 0.0795341891709508}"
      ]
     },
     "execution_count": 37,
     "metadata": {},
     "output_type": "execute_result"
    }
   ],
   "source": [
    "sd={key:get_sd(list(df.loc[:,key].dropna())) for key in df.columns}\n",
    "sd"
   ]
  },
  {
   "cell_type": "markdown",
   "metadata": {},
   "source": [
    "#### Which states have the highest and lowest participation rates for the 2017, 2019, or 2019 SAT and ACT?"
   ]
  },
  {
   "cell_type": "code",
   "execution_count": 138,
   "metadata": {
    "scrolled": true
   },
   "outputs": [
    {
     "name": "stdout",
     "output_type": "stream",
     "text": [
      "Highest SAT participation in 2017: 100% \n",
      "             ['Connecticut', 'Delaware', 'District Of Columbia', 'Michigan']\n",
      "\n",
      "Lowest SAT participation in 2017: 2% \n",
      "             ['Iowa', 'Mississippi', 'North Dakota']\n",
      "----------------------------------------------------------------------------------\n",
      "Highest ACT participation in 2017: 100% \n",
      "             ['Alabama', 'Arkansas', 'Colorado', 'Kentucky', 'Louisiana', 'Minnesota', 'Mississippi', 'Missouri', 'Montana', 'Nevada', 'North Carolina', 'Oklahoma', 'South Carolina', 'Tennessee', 'Utah', 'Wisconsin', 'Wyoming']\n",
      "\n",
      "Lowest ACT participation in 2017: 8% \n",
      "             ['Maine']\n",
      "----------------------------------------------------------------------------------\n",
      "Highest SAT participation in 2018: 100% \n",
      "             ['Colorado', 'Connecticut', 'Delaware', 'Idaho', 'Michigan']\n",
      "\n",
      "Lowest SAT participation in 2018: 2% \n",
      "             ['North Dakota']\n",
      "----------------------------------------------------------------------------------\n",
      "Highest ACT participation in 2018: 100% \n",
      "             ['Alabama', 'Arkansas', 'Kentucky', 'Louisiana', 'Mississippi', 'Missouri', 'Montana', 'Nebraska', 'Nevada', 'North Carolina', 'Ohio', 'Oklahoma', 'South Carolina', 'Tennessee', 'Utah', 'Wisconsin', 'Wyoming']\n",
      "\n",
      "Lowest ACT participation in 2018: 7% \n",
      "             ['Maine']\n",
      "----------------------------------------------------------------------------------\n",
      "Highest SAT participation in 2019: 100% \n",
      "             ['Colorado', 'Connecticut', 'Delaware', 'Florida', 'Idaho', 'Illinois', 'Michigan', 'Rhode Island']\n",
      "\n",
      "Lowest SAT participation in 2019: 2% \n",
      "             ['North Dakota']\n",
      "----------------------------------------------------------------------------------\n",
      "Highest ACT participation in 2019: 100% \n",
      "             ['Alabama', 'Arkansas', 'Kentucky', 'Louisiana', 'Mississippi', 'Montana', 'Nebraska', 'Nevada', 'North Carolina', 'Ohio', 'Oklahoma', 'Tennessee', 'Utah', 'Wisconsin', 'Wyoming']\n",
      "\n",
      "Lowest ACT participation in 2019: 6% \n",
      "             ['Maine']\n",
      "----------------------------------------------------------------------------------\n"
     ]
    }
   ],
   "source": [
    "for y in [\"2017\",\"2018\",\"2019\"]:\n",
    "    cdf=df.xs(y,level=1)\n",
    "    for t in [\"SAT\",\"ACT\"]:\n",
    "        print(f\"Highest {t} participation in {y}: {cdf[f'Participation_{t}'].max():.0%} \\n \\\n",
    "            {list(cdf.index[cdf[f'Participation_{t}']==cdf[f'Participation_{t}'].max()])}\")\n",
    "        print(\"\")\n",
    "        print(f\"Lowest {t} participation in {y}: {cdf[f'Participation_{t}'].min():.0%} \\n \\\n",
    "            {list(cdf.index[cdf[f'Participation_{t}']==cdf[f'Participation_{t}'].min()])}\")\n",
    "        print(\"----------------------------------------------------------------------------------\")"
   ]
  },
  {
   "cell_type": "markdown",
   "metadata": {},
   "source": [
    "#### Which states have the highest and lowest mean total/composite scores for the 2017, 2019, or 2019 SAT and ACT?"
   ]
  },
  {
   "cell_type": "code",
   "execution_count": 140,
   "metadata": {},
   "outputs": [
    {
     "name": "stdout",
     "output_type": "stream",
     "text": [
      "Highest SAT Score in 2017: 75% \n",
      "             ['Minnesota']\n",
      "\n",
      "Lowest SAT Score in 2017: 46% \n",
      "             ['District Of Columbia']\n",
      "----------------------------------------------------------------------------------\n",
      "Highest ACT Score in 2017: 70% \n",
      "             ['New Hampshire']\n",
      "\n",
      "Lowest ACT Score in 2017: 48% \n",
      "             ['Nevada']\n",
      "----------------------------------------------------------------------------------\n",
      "Highest SAT Score in 2018: 75% \n",
      "             ['Minnesota']\n",
      "\n",
      "Lowest SAT Score in 2018: 48% \n",
      "             ['District Of Columbia']\n",
      "----------------------------------------------------------------------------------\n",
      "Highest ACT Score in 2018: 70% \n",
      "             ['Connecticut']\n",
      "\n",
      "Lowest ACT Score in 2018: 48% \n",
      "             ['Nevada']\n",
      "----------------------------------------------------------------------------------\n",
      "Highest SAT Score in 2019: 74% \n",
      "             ['Minnesota']\n",
      "\n",
      "Lowest SAT Score in 2019: 45% \n",
      "             ['Virgin Islands']\n",
      "----------------------------------------------------------------------------------\n",
      "Highest ACT Score in 2019: 70% \n",
      "             ['Connecticut', 'Massachusetts']\n",
      "\n",
      "Lowest ACT Score in 2019: 48% \n",
      "             ['Nevada']\n",
      "----------------------------------------------------------------------------------\n"
     ]
    }
   ],
   "source": [
    "for y in [\"2017\",\"2018\",\"2019\"]:\n",
    "    cdf=df.xs(y,level=1)\n",
    "    for t in [\"SAT\",\"ACT\"]:\n",
    "        print(f\"Highest {t} Score in {y}: {cdf[f'Score_{t}'].max():.0%} \\n \\\n",
    "            {list(cdf.index[cdf[f'Score_{t}']==cdf[f'Score_{t}'].max()])}\")\n",
    "        print(\"\")\n",
    "        print(f\"Lowest {t} Score in {y}: {cdf[f'Score_{t}'].min():.0%} \\n \\\n",
    "            {list(cdf.index[cdf[f'Score_{t}']==cdf[f'Score_{t}'].min()])}\")\n",
    "        print(\"----------------------------------------------------------------------------------\")"
   ]
  },
  {
   "cell_type": "raw",
   "metadata": {},
   "source": [
    "df2=df.copy()\n",
    "df2['Score_sd']=df.apply(lambda x: get_sd([x['Score_ACT'],x['Score_SAT']]),axis=1)\n",
    "df2['composite_score']=df.apply(lambda x: (100*x['Score_ACT'])**2 + (100*x['Score_SAT'])**2,axis=1)"
   ]
  },
  {
   "cell_type": "raw",
   "metadata": {},
   "source": [
    "df2=df2.xs(\"2018\",level=1)\n",
    "df2=df2.sort_values(\"composite_score\",ascending=True)\n",
    "# display(df2)\n",
    "\n",
    "plt.figure(figsize=(15, 4))\n",
    "# plt.gca().invert_yaxis()\n",
    "# plt.gca().invert_xaxis()\n",
    "plt.ylim(0,1)\n",
    "plt.xticks(rotation=90)\n",
    "plt.plot(df2.index,df2['Score_ACT'])\n",
    "plt.plot(df2.index,df2['Score_SAT'])\n",
    "plt.show()"
   ]
  },
  {
   "cell_type": "markdown",
   "metadata": {},
   "source": [
    "**To-Do:** *Edit this cell with your findings on trends in the data (step 3 above).*"
   ]
  },
  {
   "cell_type": "markdown",
   "metadata": {},
   "source": [
    "## Visualize the Data\n",
    "\n",
    "There's not a magic bullet recommendation for the right number of plots to understand a given dataset, but visualizing your data is *always* a good idea. Not only does it allow you to quickly convey your findings (even if you have a non-technical audience), it will often reveal trends in your data that escaped you when you were looking only at numbers. It is important to not only create visualizations, but to **interpret your visualizations** as well.\n",
    "\n",
    "**Every plot should**:\n",
    "- Have a title\n",
    "- Have axis labels\n",
    "- Have appropriate tick labels\n",
    "- Text is legible in a plot\n",
    "- Plots demonstrate meaningful and valid relationships\n",
    "- Have an interpretation to aid understanding\n",
    "\n",
    "Here is an example of what your plots should look like following the above guidelines. Note that while the content of this example is unrelated, the principles of visualization hold:\n",
    "\n",
    "![](https://snag.gy/hCBR1U.jpg)\n",
    "*Interpretation: The above image shows that as we increase our spending on advertising, our sales numbers also tend to increase. There is a positive correlation between advertising spending and sales.*\n",
    "\n",
    "---\n",
    "\n",
    "Here are some prompts to get you started with visualizations. Feel free to add additional visualizations as you see fit:\n",
    "1. Use Seaborn's heatmap with pandas `.corr()` to visualize correlations between all numeric features.\n",
    "    - Heatmaps are generally not appropriate for presentations, and should often be excluded from reports as they can be visually overwhelming. **However**, they can be extremely useful in identify relationships of potential interest (as well as identifying potential collinearity before modeling).\n",
    "    - Please take time to format your output, adding a title. Look through some of the additional arguments and options. (Axis labels aren't really necessary, as long as the title is informative).\n",
    "2. Visualize distributions using histograms. If you have a lot, consider writing a custom function and use subplots.\n",
    "    - *OPTIONAL*: Summarize the underlying distributions of your features (in words & statistics)\n",
    "         - Be thorough in your verbal description of these distributions.\n",
    "         - Be sure to back up these summaries with statistics.\n",
    "         - We generally assume that data we sample from a population will be normally distributed. Do we observe this trend? Explain your answers for each distribution and how you think this will affect estimates made from these data.\n",
    "3. Plot and interpret boxplots. \n",
    "    - Boxplots demonstrate central tendency and spread in variables. In a certain sense, these are somewhat redundant with histograms, but you may be better able to identify clear outliers or differences in IQR, etc.\n",
    "    - Multiple values can be plotted to a single boxplot as long as they are of the same relative scale (meaning they have similar min/max values).\n",
    "    - Each boxplot should:\n",
    "        - Only include variables of a similar scale\n",
    "        - Have clear labels for each variable\n",
    "        - Have appropriate titles and labels\n",
    "4. Plot and interpret scatter plots to view relationships between features. Feel free to write a custom function, and subplot if you'd like. Functions save both time and space.\n",
    "    - Your plots should have:\n",
    "        - Two clearly labeled axes\n",
    "        - A proper title\n",
    "        - Colors and symbols that are clear and unmistakable\n",
    "5. Additional plots of your choosing.\n",
    "    - Are there any additional trends or relationships you haven't explored? Was there something interesting you saw that you'd like to dive further into? It's likely that there are a few more plots you might want to generate to support your narrative and recommendations that you are building toward. **As always, make sure you're interpreting your plots as you go**."
   ]
  },
  {
   "cell_type": "code",
   "execution_count": 22,
   "metadata": {},
   "outputs": [],
   "source": [
    "# Code"
   ]
  },
  {
   "cell_type": "markdown",
   "metadata": {},
   "source": [
    "## Conclusions and Recommendations"
   ]
  },
  {
   "cell_type": "markdown",
   "metadata": {},
   "source": [
    "Based on your exploration of the data, what are you key takeaways and recommendations? Make sure to answer your question of interest or address your problem statement here."
   ]
  },
  {
   "cell_type": "markdown",
   "metadata": {},
   "source": [
    "**To-Do:** *Edit this cell with your conclusions and recommendations.*"
   ]
  },
  {
   "cell_type": "markdown",
   "metadata": {},
   "source": [
    "Don't forget to create your README!\n",
    "\n",
    "**To-Do:** *If you combine your problem statement, data dictionary, brief summary of your analysis, and conclusions/recommendations, you have an amazing README.md file that quickly aligns your audience to the contents of your project.* Don't forget to cite your data sources!"
   ]
  }
 ],
 "metadata": {
  "anaconda-cloud": {},
  "kernelspec": {
   "display_name": "Python 3 (ipykernel)",
   "language": "python",
   "name": "python3"
  },
  "language_info": {
   "codemirror_mode": {
    "name": "ipython",
    "version": 3
   },
   "file_extension": ".py",
   "mimetype": "text/x-python",
   "name": "python",
   "nbconvert_exporter": "python",
   "pygments_lexer": "ipython3",
   "version": "3.9.12"
  }
 },
 "nbformat": 4,
 "nbformat_minor": 4
}
